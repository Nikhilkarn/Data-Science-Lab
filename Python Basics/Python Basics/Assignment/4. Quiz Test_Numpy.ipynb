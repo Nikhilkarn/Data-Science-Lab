{
 "cells": [
  {
   "cell_type": "markdown",
   "metadata": {},
   "source": [
    "<table>\n",
    "<tr>\n",
    "<td width=15%><img src=\"https://www.nitrkl.ac.in/assets/images/logo.png\"></img></td>\n",
    "<td><center><h1>National Institute of Technology\n",
    "Rourkela, Odisha, India, 769008</h1><h2>Department of Computer Science Engineering</h2></center></td>\n",
    "</tr>\n",
    "<tr><td colspan=2><center><h3>SUMMER INTERNSHIP cum TRAINNING PROGRAMME</h3></br>\n",
    "            <b>(STTP: Introduction to Data Science using Python)</b></center></td></tr>\n",
    "</table>"
   ]
  },
  {
   "cell_type": "markdown",
   "metadata": {},
   "source": [
    "_____\n",
    "**Write a program to create an array [10, 5, 7, 20, 15, -9, 33], print it, Find the maximum and minimum Value of the array**"
   ]
  },
  {
   "cell_type": "code",
   "execution_count": 1,
   "metadata": {},
   "outputs": [],
   "source": [
    "import numpy as np"
   ]
  },
  {
   "cell_type": "code",
   "execution_count": 3,
   "metadata": {},
   "outputs": [
    {
     "name": "stdout",
     "output_type": "stream",
     "text": [
      "Max value:  33\n",
      "Min value:  -9\n"
     ]
    }
   ],
   "source": [
    "#Code here\n",
    "arr = np.array([10, 5, 7, 20, 15, -9, 33])\n",
    "max_value = np.max(arr)\n",
    "min_value = np.min(arr)\n",
    "\n",
    "print(\"Max value: \", max_value)\n",
    "print(\"Min value: \", min_value)\n"
   ]
  },
  {
   "cell_type": "markdown",
   "metadata": {},
   "source": [
    "______\n",
    "**Write a program to accept an array of elements and find the maximum without using max function**"
   ]
  },
  {
   "cell_type": "code",
   "execution_count": 5,
   "metadata": {},
   "outputs": [
    {
     "name": "stdout",
     "output_type": "stream",
     "text": [
      "Maximum Value is:  70\n"
     ]
    }
   ],
   "source": [
    "#Code here\n",
    "def find_max(arr):\n",
    "    max_value = arr[0]\n",
    "\n",
    "    for element in arr[1:]:\n",
    "        if element > max_value:\n",
    "            max_value = element\n",
    "    return max_value\n",
    "\n",
    "arr = np.array(input(\"Enter the elements of the array: \").split(), dtype = int)\n",
    "print(\"Maximum Value is: \", find_max(arr))\n"
   ]
  },
  {
   "cell_type": "markdown",
   "metadata": {},
   "source": [
    "___\n",
    "**Write a program to accept two matrices [[1,2],[3,4]],   [[2,4],[6,8]]and find the sum and subtraction of two matrices**"
   ]
  },
  {
   "cell_type": "code",
   "execution_count": 8,
   "metadata": {},
   "outputs": [
    {
     "name": "stdout",
     "output_type": "stream",
     "text": [
      "Sum of the matrix is:  [[ 3  6]\n",
      " [ 9 12]]\n",
      "Subtraction of matrix is:  [[-1 -2]\n",
      " [-3 -4]]\n"
     ]
    }
   ],
   "source": [
    "#Code here\n",
    "matrix1 = np.array([[1,2], [3,4]])\n",
    "matrix2 = np.array([[2,4], [6,8]])\n",
    "\n",
    "sum = matrix1 + matrix2\n",
    "print(\"Sum of the matrix is: \", sum)\n",
    "\n",
    "subtraction = matrix1 - matrix2\n",
    "print(\"Subtraction of matrix is: \", subtraction)"
   ]
  },
  {
   "cell_type": "markdown",
   "metadata": {},
   "source": [
    "___\n",
    "**Write a program to generate a ranodom matrix of size 5 X 6. Add another row containing random elements to it. Find the sum of each row.**"
   ]
  },
  {
   "cell_type": "code",
   "execution_count": 14,
   "metadata": {},
   "outputs": [
    {
     "name": "stdout",
     "output_type": "stream",
     "text": [
      "Random matrix is: \n",
      " [[0.9832255  0.56247992 0.96052608 0.26643216 0.22071635 0.16035822]\n",
      " [0.40904376 0.12882534 0.02269591 0.77199097 0.98642153 0.21153875]\n",
      " [0.17834926 0.7927361  0.55689021 0.91339738 0.45979276 0.39297237]\n",
      " [0.21529418 0.61659972 0.29629913 0.82187606 0.42219407 0.62966214]\n",
      " [0.36888256 0.60765637 0.15726181 0.92343056 0.04804212 0.87991788]]\n",
      "\n",
      "Random matrix with another row is: \n",
      " [[0.9832255  0.56247992 0.96052608 0.26643216 0.22071635 0.16035822]\n",
      " [0.40904376 0.12882534 0.02269591 0.77199097 0.98642153 0.21153875]\n",
      " [0.17834926 0.7927361  0.55689021 0.91339738 0.45979276 0.39297237]\n",
      " [0.21529418 0.61659972 0.29629913 0.82187606 0.42219407 0.62966214]\n",
      " [0.36888256 0.60765637 0.15726181 0.92343056 0.04804212 0.87991788]\n",
      " [0.45197796 0.23102484 0.71625357 0.78912031 0.45634728 0.20262892]]\n",
      "\n",
      "Sum of each row is:  [3.15373823 2.53051627 3.29413807 3.0019253  2.9851913  2.84735288]\n"
     ]
    }
   ],
   "source": [
    "#Code here\n",
    "random_matrix = np.random.rand(5, 6)\n",
    "print(\"Random matrix is: \\n\", random_matrix)\n",
    "\n",
    "another_row = np.random.rand(1, 6)\n",
    "random_matrix = np.vstack([random_matrix, another_row])\n",
    "print(\"\\nRandom matrix with another row is: \\n\", random_matrix)\n",
    "\n",
    "sum = np.sum(random_matrix, axis = 1)\n",
    "print(\"\\nSum of each row is: \", sum)"
   ]
  },
  {
   "cell_type": "markdown",
   "metadata": {},
   "source": [
    "___\n",
    "**Write a program to generate a ranodm integer matrix of size 5 X 6. Add another column containing random integers to it. Compute the sine of each element and print it**"
   ]
  },
  {
   "cell_type": "code",
   "execution_count": 15,
   "metadata": {},
   "outputs": [
    {
     "name": "stdout",
     "output_type": "stream",
     "text": [
      "Random matrix is: \n",
      " [[1 1 8 6 3 7]\n",
      " [0 0 8 4 2 9]\n",
      " [6 4 7 1 1 2]\n",
      " [2 0 8 3 4 2]\n",
      " [0 1 0 2 7 7]]\n",
      "\n",
      "Another column is: \n",
      " [[4]\n",
      " [2]\n",
      " [7]\n",
      " [7]\n",
      " [3]]\n",
      "Sine of the matrix is: \n",
      " [[ 0.84147098  0.84147098  0.98935825 -0.2794155   0.14112001  0.6569866\n",
      "  -0.7568025 ]\n",
      " [ 0.          0.          0.98935825 -0.7568025   0.90929743  0.41211849\n",
      "   0.90929743]\n",
      " [-0.2794155  -0.7568025   0.6569866   0.84147098  0.84147098  0.90929743\n",
      "   0.6569866 ]\n",
      " [ 0.90929743  0.          0.98935825  0.14112001 -0.7568025   0.90929743\n",
      "   0.6569866 ]\n",
      " [ 0.          0.84147098  0.          0.90929743  0.6569866   0.6569866\n",
      "   0.14112001]]\n"
     ]
    }
   ],
   "source": [
    "#Code here\n",
    "random_matrix = np.random.randint(0, 10, size = (5,6))\n",
    "print(\"Random matrix is: \\n\", random_matrix)\n",
    "\n",
    "another_column = np.random.randint(0, 10, size = (5,1))\n",
    "random_matrix = np.hstack([random_matrix, another_column])\n",
    "print(\"\\nAnother column is: \\n\", another_column)\n",
    "\n",
    "sine_matrix = np.sin(random_matrix)\n",
    "print(\"Sine of the matrix is: \\n\", sine_matrix)"
   ]
  },
  {
   "cell_type": "markdown",
   "metadata": {},
   "source": [
    "___\n",
    "**Write a program to generate a ranodm matrix of size 5 X 6. Consider the 3rd and 4th row; and 2nd, 3rd and 4th column and print the resultant matrix using slicing**"
   ]
  },
  {
   "cell_type": "code",
   "execution_count": 16,
   "metadata": {},
   "outputs": [
    {
     "name": "stdout",
     "output_type": "stream",
     "text": [
      "Random matrix is: \n",
      " [[3 1 8 9 6 9]\n",
      " [8 2 6 3 4 8]\n",
      " [2 5 1 4 2 7]\n",
      " [7 7 7 0 0 7]\n",
      " [3 9 8 1 5 2]]\n",
      "\n",
      "Result matrix is: \n",
      " [[5 1 4]\n",
      " [7 7 0]]\n"
     ]
    }
   ],
   "source": [
    "#Code here\n",
    "random_matrix = np.random.randint(0, 10, size = (5,6))\n",
    "print(\"Random matrix is: \\n\", random_matrix)\n",
    "\n",
    "result_matrix = random_matrix[2:4, 1:4]\n",
    "print(\"\\nResult matrix is: \\n\", result_matrix)"
   ]
  },
  {
   "cell_type": "markdown",
   "metadata": {},
   "source": [
    "### Great Job!"
   ]
  }
 ],
 "metadata": {
  "kernelspec": {
   "display_name": "Python 3 (ipykernel)",
   "language": "python",
   "name": "python3"
  },
  "language_info": {
   "codemirror_mode": {
    "name": "ipython",
    "version": 3
   },
   "file_extension": ".py",
   "mimetype": "text/x-python",
   "name": "python",
   "nbconvert_exporter": "python",
   "pygments_lexer": "ipython3",
   "version": "3.11.4"
  }
 },
 "nbformat": 4,
 "nbformat_minor": 4
}
