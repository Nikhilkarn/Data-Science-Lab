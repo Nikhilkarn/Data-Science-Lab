{
  "cells": [
    {
      "cell_type": "markdown",
      "metadata": {
        "id": "KRHB4cUi7eSg"
      },
      "source": [
        "# (2.1) Basic Terminology"
      ]
    },
    {
      "cell_type": "markdown",
      "metadata": {
        "id": "IYm45v1y7eSj"
      },
      "source": [
        "## Iris Flower dataset"
      ]
    },
    {
      "cell_type": "markdown",
      "metadata": {
        "id": "iW8l_61b7eSk"
      },
      "source": [
        "Iris Dataset: [https://en.wikipedia.org/wiki/Iris_flower_data_set]"
      ]
    },
    {
      "cell_type": "code",
      "execution_count": 1,
      "metadata": {
        "id": "p2oKsGVW7eSm",
        "jupyter": {
          "outputs_hidden": false
        }
      },
      "outputs": [],
      "source": [
        "import pandas as pd\n",
        "import seaborn as sns\n",
        "import matplotlib.pyplot as plt\n",
        "import numpy as np\n",
        "import warnings\n",
        "warnings.filterwarnings(\"ignore\")"
      ]
    },
    {
      "cell_type": "markdown",
      "source": [
        "### Read the Dataset\n"
      ],
      "metadata": {
        "id": "_TGuhphl0dU5"
      }
    },
    {
      "cell_type": "code",
      "source": [],
      "metadata": {
        "id": "-eMqhlNgznJ3"
      },
      "execution_count": 1,
      "outputs": []
    },
    {
      "cell_type": "markdown",
      "source": [
        "### How many data-points and features?"
      ],
      "metadata": {
        "id": "-lVzmZ9K0lj2"
      }
    },
    {
      "cell_type": "code",
      "source": [],
      "metadata": {
        "id": "9reUyRYRzocY"
      },
      "execution_count": 2,
      "outputs": []
    },
    {
      "cell_type": "markdown",
      "source": [
        "### What are the column names in the dataset?"
      ],
      "metadata": {
        "id": "Nzq6HOqd0qzC"
      }
    },
    {
      "cell_type": "code",
      "source": [],
      "metadata": {
        "id": "2WWnQb_RzpZ1"
      },
      "execution_count": 3,
      "outputs": []
    },
    {
      "cell_type": "markdown",
      "source": [
        "### How many data points for each class are present?\n",
        "### How many flowers for each species are present?\n",
        "\n",
        "###Note: balanced-dataset vs imbalanced datasets\n",
        "###Iris is a balanced dataset as the number of data points for every class is 50."
      ],
      "metadata": {
        "id": "0lhP4rnR0sk6"
      }
    },
    {
      "cell_type": "code",
      "source": [],
      "metadata": {
        "id": "vp1EjqVRztr-"
      },
      "execution_count": 4,
      "outputs": []
    },
    {
      "cell_type": "markdown",
      "metadata": {
        "id": "uExhLJ1-7eTT"
      },
      "source": [
        "# (2.2) 2-D Scatter Plot"
      ]
    },
    {
      "cell_type": "markdown",
      "source": [
        "###2-D scatter plot:\n",
        "###ALWAYS understand the axis: labels and scale.\n",
        "\n",
        "\n",
        "\n",
        "###cannot make much sense out it.\n",
        "###What if we color the points by thier class-label/flower-type."
      ],
      "metadata": {
        "id": "MR8_sKVY0vik"
      }
    },
    {
      "cell_type": "code",
      "source": [],
      "metadata": {
        "id": "c6BQ0pzHzv-W"
      },
      "execution_count": 5,
      "outputs": []
    },
    {
      "cell_type": "markdown",
      "source": [
        "### 2-D Scatter plot with color-coding for each flower type/class.\n",
        "### Here 'sns' corresponds to seaborn.\n",
        "\n",
        "### Notice that the blue points can be easily seperated\n",
        "### from red and green by drawing a line.\n",
        "### But red and green data points cannot be easily seperated.\n",
        "### Can we draw multiple 2-D scatter plots for each combination of features?\n",
        "### How many cobinations exist? 4C2 = 6."
      ],
      "metadata": {
        "id": "p12n8psE0xAF"
      }
    },
    {
      "cell_type": "code",
      "source": [],
      "metadata": {
        "id": "L2HeV-_szxwa"
      },
      "execution_count": 6,
      "outputs": []
    },
    {
      "cell_type": "markdown",
      "metadata": {
        "id": "2L5YF3Tj7eTl"
      },
      "source": [
        "**Observation(s):**\n",
        "1. Using sepal_length and sepal_width features, we can distinguish Setosa flowers from others.\n",
        "2. Seperating Versicolor from Viginica is much harder as they have considerable overlap."
      ]
    },
    {
      "cell_type": "markdown",
      "metadata": {
        "id": "TdiZ9lLL7eTn"
      },
      "source": [
        "## 3D Scatter plot\n",
        "\n",
        "https://plot.ly/pandas/3d-scatter-plots/\n",
        "\n",
        "Needs a lot to mouse interaction to interpret data."
      ]
    },
    {
      "cell_type": "code",
      "source": [],
      "metadata": {
        "id": "8xFKokVZ02Jb"
      },
      "execution_count": null,
      "outputs": []
    },
    {
      "cell_type": "markdown",
      "metadata": {
        "id": "ikdQY1fR7eTp"
      },
      "source": [
        "#  (2.3) Pair-plot"
      ]
    },
    {
      "cell_type": "code",
      "source": [],
      "metadata": {
        "id": "m5I_QX440zcP"
      },
      "execution_count": null,
      "outputs": []
    },
    {
      "cell_type": "markdown",
      "source": [
        "### pairwise scatter plot: Pair-Plot\n",
        "### Dis-advantages:\n",
        "###Can be used when number of features are high.\n",
        "###Cannot visualize higher dimensional patterns in 3-D and 4-D.\n",
        "###Only possible to view 2D patterns.\n",
        "\n",
        "### NOTE: the diagnol elements are PDFs for each feature. PDFs are expalined below."
      ],
      "metadata": {
        "id": "TkuKNKA37eTs"
      }
    },
    {
      "cell_type": "code",
      "source": [],
      "metadata": {
        "id": "XhFYAj3Wzz09"
      },
      "execution_count": 7,
      "outputs": []
    },
    {
      "cell_type": "markdown",
      "metadata": {
        "id": "aJAPMfBU7eT1"
      },
      "source": [
        "**Observations**\n",
        "1. petal_length and petal_width are the most useful features to identify various flower types.\n",
        "2. While Setosa can be easily identified (linearly seperable), Virnica and Versicolor have some overlap (almost linearly seperable).\n",
        "3. We can find \"lines\" and \"if-else\" conditions to build a simple model to classify the flower types."
      ]
    },
    {
      "cell_type": "markdown",
      "metadata": {
        "id": "LWsvwUkL7eT4"
      },
      "source": [
        "# (2.4) Histogram, Probability Density Function (PDF), Cumulative Density Function (CDF)"
      ]
    },
    {
      "cell_type": "markdown",
      "source": [
        "### What about 1-D scatter plot using just one feature?\n",
        "###1-D scatter plot of petal-length\n",
        "\n",
        "###Disadvantages of 1-D scatter plot: Very hard to make sense as points\n",
        "###are overlapping a lot.\n",
        "###Are there better ways of visualizing 1-D scatter plots? Solution: Histograms and Distribution Plot"
      ],
      "metadata": {
        "id": "wUvH2M817eT6"
      }
    },
    {
      "cell_type": "code",
      "source": [],
      "metadata": {
        "id": "61imoOGyz2Fk"
      },
      "execution_count": 8,
      "outputs": []
    },
    {
      "cell_type": "markdown",
      "source": [
        "#### Note: The more the Farther the distributions for a feature, the better the feature is> Petal length and petal width are better features. Pteal length is better than petal width because of shorter tail\n",
        "### Histograms and Probability Density Functions (PDF) using KDE\n",
        "\n",
        "### Interpreting a PDF:\n",
        "### Notice that we can write a simple if..else condition as if(petal_length) < 2.5 then flower type is setosa.\n",
        "### Using just one feature, we can build a simple \"model\" suing if..else... statements.\n",
        "\n",
        "### Disadv of PDF: Can we say what percentage of versicolor points have a petal_length of less than 5?"
      ],
      "metadata": {
        "id": "sUTbOpd67eUg"
      }
    },
    {
      "cell_type": "markdown",
      "source": [
        "\n",
        "### Need for Cumulative Distribution Function (CDF)- Blue line-PDF and Orange line-CDF\n",
        "### CDF always lies between 0-1\n",
        "### You can build a PDF by drawing a Histogram and then smoothing it\n",
        "### The cumulative distribution function (CDF) of a real-valued random variable X, or just distribution function of X, evaluated at x, is the probability that X will take a value less than or equal to x\n",
        "### CDF at a particular point is the Area under the curve of PDF until that point. Hence if you differentiate your CDF you will get ur PDF. If you do integration on your PDF you will get CDF\n",
        "### We can visually see what percentage of versicolor flowers have a\n",
        "### petal_length of less than 5?\n",
        "\n",
        "###lot CDF of petal_length\n",
        "\n",
        "\n"
      ],
      "metadata": {
        "id": "5w3mEOUR7eUk"
      }
    },
    {
      "cell_type": "code",
      "source": [],
      "metadata": {
        "id": "goUrpxkVz_3K"
      },
      "execution_count": 10,
      "outputs": []
    },
    {
      "cell_type": "markdown",
      "source": [
        "### Need for Cumulative Distribution Function (CDF)\n",
        "### We can visually see what percentage of versicolor flowers have a\n",
        "### petal_length of less than 1.6?\n",
        "### How to construct a CDF?\n",
        "### How to read a CDF?\n",
        "\n",
        "###Plot CDF of petal_length\n",
        "\n"
      ],
      "metadata": {
        "id": "KDX4yFj17eUq"
      }
    },
    {
      "cell_type": "code",
      "source": [],
      "metadata": {
        "id": "ECr9Q6eP0BVs"
      },
      "execution_count": 11,
      "outputs": []
    },
    {
      "cell_type": "markdown",
      "source": [
        "### Plots of CDF of petal_length for various types of flowers.\n",
        "\n",
        "### Misclassification error if you use petal_length only.\n",
        "\n"
      ],
      "metadata": {
        "id": "TjHpJqSz7eUw"
      }
    },
    {
      "cell_type": "code",
      "source": [],
      "metadata": {
        "id": "Mx_HdJoF0E4a"
      },
      "execution_count": 12,
      "outputs": []
    },
    {
      "cell_type": "markdown",
      "metadata": {
        "id": "1JykhrwO7eUz"
      },
      "source": [
        "# (2.5) Mean, Variance and Std-dev"
      ]
    },
    {
      "cell_type": "markdown",
      "source": [
        "###Mean, Variance, Std-deviation,\n",
        "###Mean with an outlier.\n",
        "\n",
        "\n",
        "\n"
      ],
      "metadata": {
        "id": "7rhG9mB17eU0"
      }
    },
    {
      "cell_type": "code",
      "source": [],
      "metadata": {
        "id": "8dqbEXNA0IcC"
      },
      "execution_count": 13,
      "outputs": []
    },
    {
      "cell_type": "markdown",
      "metadata": {
        "id": "abmP92Sn7eU4"
      },
      "source": [
        "### (2.6) Median, Percentile, Quantile, Interquartile Range (IQR), Median Absolute Deviation (MAD)"
      ]
    },
    {
      "cell_type": "markdown",
      "source": [
        "###Median, Quantiles, Percentiles, IQR.\n",
        "\n",
        "###Median with an outlier\n",
        "\n"
      ],
      "metadata": {
        "id": "cICgORTF7eU5"
      }
    },
    {
      "cell_type": "code",
      "source": [],
      "metadata": {
        "id": "NSNWGI3a0Knl"
      },
      "execution_count": 14,
      "outputs": []
    },
    {
      "cell_type": "markdown",
      "metadata": {
        "id": "6OHiqoR-7eU9"
      },
      "source": [
        "# (2.7) Box plot and Whiskers"
      ]
    },
    {
      "cell_type": "markdown",
      "source": [
        "\n",
        "###Box-plot with whiskers: another method of visualizing the  1-D scatter plot more intuitivey.\n",
        "### The Concept of median, percentile, quantile.\n",
        "### How to draw the box in the box-plot?\n",
        "### How to draw whiskers: [no standard way] Could use min and max or use other complex statistical techniques.\n",
        "### IQR like idea.\n",
        "\n",
        "###NOTE: IN the plot below, a technique call inter-quartile range is used in plotting the whiskers.\n",
        "###Whiskers in the plot below donot correposnd to the min and max values.\n",
        "\n",
        "###Box-plot can be visualized as a PDF on the side-ways.\n",
        "\n",
        "\n"
      ],
      "metadata": {
        "id": "s4ZG6dZw7eU_"
      }
    },
    {
      "cell_type": "code",
      "source": [],
      "metadata": {
        "id": "f4bzRPLH0LpH"
      },
      "execution_count": 15,
      "outputs": []
    },
    {
      "cell_type": "markdown",
      "metadata": {
        "id": "3S8dI16V7eVC"
      },
      "source": [
        "# (2.8) Violin plots"
      ]
    },
    {
      "cell_type": "markdown",
      "source": [
        "### A violin plot combines the benefits of the previous two plots and simplifies them\n",
        "\n",
        "### Denser regions of the data are fatter, and sparser ones thinner in a violin plot\n"
      ],
      "metadata": {
        "id": "ha1SwMC47eVE"
      }
    },
    {
      "cell_type": "code",
      "source": [],
      "metadata": {
        "id": "kx1n4E020Mld"
      },
      "execution_count": 16,
      "outputs": []
    },
    {
      "cell_type": "markdown",
      "metadata": {
        "id": "64iyVP9u7eVU"
      },
      "source": [
        "# (2.9) Exercise:\n",
        "1. Use the Haberman Cancer Survival dataset given in the current directory\n",
        "2. Perform a similar anaysis as above on this dataset with the following sections:\n",
        "* Perform Univaraite analysis(PDF, CDF, Boxplot, Voilin plots) to understand which features are useful for classification.\n",
        "* Perform Bi-variate analysis (scatter plots, pair-plots) to see if combinations of features are useful in classfication."
      ]
    }
  ],
  "metadata": {
    "colab": {
      "provenance": []
    },
    "kernelspec": {
      "display_name": "Python 3 (ipykernel)",
      "language": "python",
      "name": "python3"
    },
    "language_info": {
      "codemirror_mode": {
        "name": "ipython",
        "version": 3
      },
      "file_extension": ".py",
      "mimetype": "text/x-python",
      "name": "python",
      "nbconvert_exporter": "python",
      "pygments_lexer": "ipython3",
      "version": "3.11.7"
    }
  },
  "nbformat": 4,
  "nbformat_minor": 0
}